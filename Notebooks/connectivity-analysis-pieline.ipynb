{
 "cells": [
  {
   "cell_type": "markdown",
   "metadata": {},
   "source": [
    "# Connectivity Analysis Pipeline\n",
    "\n",
    "This notebook is a first shot at making a connectivity analysis pipeline using **EBRAINS** atlas services and **nilearn**. \n",
    "\n",
    "The pipeline will ideally contains the following steps:\n",
    "\n",
    "- **Step 1:** <a href='#Step1'>Load fmri data from EBRAINS</a>\n",
    "- **Step 2:** <a href='#Step2'>Load a parcellation from EBRAINS human brain atlas using the `siibra` client</a>\n",
    "- **Step 3:** <a href='#Step3'>Use nilearn to extract signals</a>\n",
    "- **Step 4:** <a href='#Step4'>Use nilearn to compute some connectivity from these signals</a>\n",
    "- **Step 5:** <a href='#Step5'>Use nilearn to visualize this connectivity (as a matrix, as a graph...)</a>\n",
    "- **Step 6:** <a href='#Step6'>Upload the results back to EBRAINS</a>\n",
    "- **Step 7:** Visualize them using the visualization tools of EBRAINS"
   ]
  },
  {
   "cell_type": "markdown",
   "metadata": {},
   "source": [
    "## Step 1: Load fmri data\n",
    "\n",
    "Ideally this will be loaded from **EBRAINS**. \n",
    "\n",
    "**TODOS:**\n",
    "\n",
    "- [ ] find and upload good datasets\n",
    "- [ ] find a way to fetch them easily \n",
    "\n",
    "For now, we rely on **Nilearn** for this."
   ]
  },
  {
   "cell_type": "code",
   "execution_count": null,
   "metadata": {},
   "outputs": [],
   "source": [
    "# Do not display warnings to prettify the notebook...\n",
    "import warnings\n",
    "warnings.simplefilter(\"ignore\")"
   ]
  },
  {
   "cell_type": "code",
   "execution_count": null,
   "metadata": {},
   "outputs": [],
   "source": [
    "# import nilearn newest version (make sure it is 0.7.1 or more)\n",
    "import nilearn\n",
    "nilearn.__version__"
   ]
  },
  {
   "cell_type": "markdown",
   "metadata": {},
   "source": [
    "We load 10 development fmri data for 10 subjects:"
   ]
  },
  {
   "cell_type": "code",
   "execution_count": null,
   "metadata": {},
   "outputs": [],
   "source": [
    "from nilearn.datasets import fetch_development_fmri\n",
    "\n",
    "# Ten subjects of brain development fmri data\n",
    "data = fetch_development_fmri(n_subjects=10)"
   ]
  },
  {
   "cell_type": "markdown",
   "metadata": {},
   "source": [
    "## Step 2: Load an atlas from EBRAINS\n",
    "\n",
    "We rely on the `siibra` library to work with EBRAINS human brain atlas and access the *Julich-Brain Probabilistic Cytoarchitectonic Maps (v2.5)*.\n",
    "\n",
    "**TODOS:**\n",
    "\n",
    "- [x] Simplify the API such that the parcellation selection in right space is smoother--\n",
    "- [x] Simplify the queries on regions (ex: get the mapping between region names and label values)\n",
    "\n",
    "<p style=\"color: red;\"><b>Warning:</b> If this is the first time you use siibra, you will have to provide an authentication token (see <a href=\"https://siibra-python.readthedocs.io/en/latest/authentication.html\">the siibra documentation on authenticating to EBRAINS</a>).</p>"
   ]
  },
  {
   "cell_type": "code",
   "execution_count": null,
   "metadata": {},
   "outputs": [],
   "source": [
    "!pip install siibra==0.0.8.9.dev2 "
   ]
  },
  {
   "cell_type": "markdown",
   "metadata": {},
   "source": [
    "### 2.1 Fetch a parcellation object via siibra"
   ]
  },
  {
   "cell_type": "code",
   "execution_count": null,
   "metadata": {},
   "outputs": [],
   "source": [
    "import siibra\n",
    "print(siibra.__version__)\n",
    "siibra.logger.setLevel(\"INFO\") # we want to see some messages\n",
    "julichbrain = siibra.parcellations.JULICH_BRAIN_PROBABILISTIC_CYTOARCHITECTONIC_MAPS_V2_5\n",
    "julichbrain.description"
   ]
  },
  {
   "cell_type": "markdown",
   "metadata": {},
   "source": [
    "### 2.2 Retrieve the parcellation map in MNI152 space\n",
    "\n",
    "We load the map for this parcellation in MNI152 space. The map is a 4D image with integer values representing the labels of the parcellation. The fourth dimension splits the left and right hemisphere in this atlas. "
   ]
  },
  {
   "cell_type": "code",
   "execution_count": null,
   "metadata": {},
   "outputs": [],
   "source": [
    "julichbrain_map = julichbrain.get_maps(\n",
    "    siibra.spaces.MNI_152_ICBM_2009C_NONLINEAR_ASYMMETRIC)\n",
    "print(julichbrain_map.shape)"
   ]
  },
  {
   "cell_type": "markdown",
   "metadata": {},
   "source": [
    "### 2.3 Understand handling of region names and labels in siibra\n",
    "\n",
    "The labels in the map correspond to the label list used in the parcellation object, except that the latter does not include the background label, 0:"
   ]
  },
  {
   "cell_type": "code",
   "execution_count": null,
   "metadata": {},
   "outputs": [],
   "source": [
    "import numpy as np\n",
    "labels_seen = set(np.unique(julichbrain_map.dataobj))\n",
    "print(\"Labels in the label volume which are not defined by the parcellation object:\")\n",
    "print(labels_seen - julichbrain.labels)"
   ]
  },
  {
   "cell_type": "markdown",
   "metadata": {},
   "source": [
    "Interpreting index labels and region names in the parcellation map is fairly simple: Label indices and names can be decoded into region objects by the atlas. In fact, the underlying regiontree of the parcellation can be directly indexed with label indices."
   ]
  },
  {
   "cell_type": "code",
   "execution_count": null,
   "metadata": {},
   "outputs": [],
   "source": [
    "res = julichbrain.regiontree.find(30)\n",
    "print(res)"
   ]
  },
  {
   "cell_type": "code",
   "execution_count": null,
   "metadata": {},
   "outputs": [],
   "source": [
    "print(\"Decoding the name 'Fp1'\")\n",
    "region = julichbrain.get_region(\"Fp1\")\n",
    "print(repr(region))\n",
    "print(\"This region has label {}.\".format(region.labelindex))\n",
    "\n",
    "print(\"Decoding the label index 107:\")\n",
    "print(repr(julichbrain.get_region(region.labelindex)))\n",
    "\n",
    "print(\"or, alternatively, indexing the region tree with index 107:\")\n",
    "print(repr(julichbrain.regiontree[region.labelindex]))"
   ]
  },
  {
   "cell_type": "markdown",
   "metadata": {},
   "source": [
    "To keep track during the analysis below, we construct lists of region names and indices."
   ]
  },
  {
   "cell_type": "code",
   "execution_count": null,
   "metadata": {},
   "outputs": [],
   "source": [
    "julichbrain.find_region(30)"
   ]
  },
  {
   "cell_type": "code",
   "execution_count": null,
   "metadata": {},
   "outputs": [],
   "source": [
    "labels = list(julichbrain.labels)\n",
    "names = [julichbrain.get_region(l).name for l in labels]"
   ]
  },
  {
   "cell_type": "markdown",
   "metadata": {},
   "source": [
    "## Step 3: Use Nilearn to extract signals from parcellation and functional data\n",
    "\n",
    "In this section we use the nilearn `NiftiLabelsMasker` to extract the signals from the functional dataset and parcellation."
   ]
  },
  {
   "cell_type": "code",
   "execution_count": null,
   "metadata": {},
   "outputs": [],
   "source": [
    "from IPython.display import Image\n",
    "Image(filename='masker.png') "
   ]
  },
  {
   "cell_type": "markdown",
   "metadata": {},
   "source": [
    "*copyright - Image taken from the nilearn documentation.*\n",
    "\n",
    "More information on maskers can be found in the <a href=\"https://nilearn.github.io/manipulating_images/masker_objects.html\">nilearn online documentation</a>."
   ]
  },
  {
   "cell_type": "code",
   "execution_count": null,
   "metadata": {},
   "outputs": [],
   "source": [
    "from nilearn.input_data import NiftiLabelsMasker\n",
    "\n",
    "# Use NiftiLabelsMasker to extract signals from regions\n",
    "julichbrain_left = julichbrain_map.slicer[:,:,:,0]\n",
    "masker = NiftiLabelsMasker(labels_img=julichbrain_left, \n",
    "                           standardize=True) # Standardize the signals\n",
    "time_series = []\n",
    "for func, confounds in zip(data.func, data.confounds):\n",
    "    time_series.append(masker.fit_transform(func, \n",
    "                                            confounds=confounds))\n",
    "time_series = np.array(time_series)\n",
    "time_series.shape"
   ]
  },
  {
   "cell_type": "markdown",
   "metadata": {},
   "source": [
    "We have **124** standardized time series of length **168** per subject (**10** subjects were loaded). \n",
    "\n",
    "We can plot them if needed:"
   ]
  },
  {
   "cell_type": "code",
   "execution_count": null,
   "metadata": {},
   "outputs": [],
   "source": [
    "import matplotlib.pyplot as plt\n",
    "\n",
    "subject_id = 0\n",
    "fig = plt.figure(figsize=(12,4))\n",
    "for i in [0,1,2]:\n",
    "    plt.plot(time_series[subject_id, :, i], \n",
    "             label=names[i])\n",
    "plt.legend()\n",
    "plt.xlim((0, 168))\n",
    "plt.xlabel(\"Time\", fontsize=15)\n",
    "plt.title(f\"Signals for subject {subject_id} for three regions\", fontsize=15)\n",
    "plt.tight_layout()"
   ]
  },
  {
   "cell_type": "markdown",
   "metadata": {},
   "source": [
    "## Step 4: Use Nilearn to compute a connectivity matrix\n",
    "\n",
    "Here we compute the correlation between these time series:"
   ]
  },
  {
   "cell_type": "code",
   "execution_count": null,
   "metadata": {},
   "outputs": [],
   "source": [
    "from nilearn.connectome import ConnectivityMeasure\n",
    "correlation_measure = ConnectivityMeasure(kind='correlation')\n",
    "correlation_matrix = correlation_measure.fit_transform(time_series)\n",
    "assert correlation_matrix.shape == (10, 124, 124)"
   ]
  },
  {
   "cell_type": "markdown",
   "metadata": {},
   "source": [
    "In order to visualize this matrix, we take the mean accross subject:"
   ]
  },
  {
   "cell_type": "code",
   "execution_count": null,
   "metadata": {},
   "outputs": [],
   "source": [
    "mean_correlation_matrix = correlation_measure.mean_\n",
    "assert mean_correlation_matrix.shape == (124, 124)"
   ]
  },
  {
   "cell_type": "markdown",
   "metadata": {},
   "source": [
    "## Step 5: Use nilearn to visualize the connectivity\n",
    "\n",
    "We can use **Nilearn** to visualize the connectivity, either as a matrix or as a graph:\n",
    "\n",
    "### As a matrix\n",
    "\n",
    "We can plot the matrix with the region names:"
   ]
  },
  {
   "cell_type": "code",
   "execution_count": null,
   "metadata": {},
   "outputs": [],
   "source": [
    "mean_correlation_matrix.shape, len(names)"
   ]
  },
  {
   "cell_type": "code",
   "execution_count": null,
   "metadata": {},
   "outputs": [],
   "source": [
    "from nilearn.plotting import plot_matrix\n",
    "# Mask the main diagonal for visualization:\n",
    "np.fill_diagonal(mean_correlation_matrix, 0)\n",
    "# matrices are ordered for block-like representation\n",
    "plot_matrix(mean_correlation_matrix, \n",
    "            figure=(16, 16), \n",
    "            labels=names, \n",
    "            reorder=True)"
   ]
  },
  {
   "cell_type": "markdown",
   "metadata": {},
   "source": [
    "### As a graph"
   ]
  },
  {
   "cell_type": "code",
   "execution_count": null,
   "metadata": {},
   "outputs": [],
   "source": [
    "from nilearn.plotting import plot_connectome, find_parcellation_cut_coords\n",
    "\n",
    "# grab center coordinates for atlas labels\n",
    "coordinates = find_parcellation_cut_coords(labels_img=julichbrain_map.slicer[:,:,:,0])\n",
    "# plot connectome with 95% edge strength in the connectivity\n",
    "plot_connectome(mean_correlation_matrix, \n",
    "                coordinates,\n",
    "                edge_threshold=\"95%\")"
   ]
  },
  {
   "cell_type": "markdown",
   "metadata": {},
   "source": [
    "## Step 6: Upload the results back to ebrains\n",
    "\n",
    "**TODOS:**\n",
    "\n",
    "- Decide on a representation of the connectivity results\n",
    "- Find how these results could be uploaded"
   ]
  },
  {
   "cell_type": "code",
   "execution_count": null,
   "metadata": {},
   "outputs": [],
   "source": []
  }
 ],
 "metadata": {
  "kernelspec": {
   "display_name": "Python 3",
   "language": "python",
   "name": "python3"
  },
  "language_info": {
   "codemirror_mode": {
    "name": "ipython",
    "version": 3
   },
   "file_extension": ".py",
   "mimetype": "text/x-python",
   "name": "python",
   "nbconvert_exporter": "python",
   "pygments_lexer": "ipython3",
   "version": "3.9.1"
  }
 },
 "nbformat": 4,
 "nbformat_minor": 5
}
